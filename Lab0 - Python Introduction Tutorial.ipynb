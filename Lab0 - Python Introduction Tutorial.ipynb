{
  "cells": [
    {
      "cell_type": "markdown",
      "id": "733f8cec",
      "metadata": {
        "id": "733f8cec"
      },
      "source": [
        "# Python Introduction Tutorial"
      ]
    },
    {
      "cell_type": "markdown",
      "id": "ef8e216a",
      "metadata": {},
      "source": [
        "<table align=\"center\">\n",
        "<td align=\"center\"><a target=\"_blank\" href=\"http://inspiredk.org\">\n",
        "<img align=\"center\" src=\"https://i.ibb.co/gbKhWJ9m/Inspired-K-org-Logo-No-Whitespace-Small.png\" style=\"padding-bottom:10px;\" />InspiredK.org Website</a></td>\n",
        "\n",
        "<td align=\"center\"><a target=\"_blank\" href=\"https://colab.research.google.com/github/InspiredK-organization/PythonTutorial/blob/main/Lab0 - Python Introduction Tutorial.ipynb\">\n",
        "<img align=\"center\" src=\"https://i.ibb.co/2P3SLwK/colab.png\" style=\"padding-bottom:10px;\" />Run in Google Colab</a></td>\n",
        "</table>"
      ]
    },
    {
      "cell_type": "markdown",
      "id": "8c1c5651",
      "metadata": {},
      "source": [
        "In this lab, we will practice working with some of Python's basics that are very helpful for AI including Python's built-in data types (lists, tuples, and dictionaries), loops, and Python libraries (NumPy)."
      ]
    },
    {
      "cell_type": "markdown",
      "id": "347cd487",
      "metadata": {
        "id": "347cd487"
      },
      "source": [
        "## 1. Python's Built-in Types"
      ]
    },
    {
      "cell_type": "markdown",
      "id": "e691f94d",
      "metadata": {
        "id": "e691f94d"
      },
      "source": [
        "Python has several built-in types that are useful for storing and manipulating data: lists, tuples, and dictionaries.\n",
        "\n",
        "Here is the official Python documentation on these types (and many others): https://docs.python.org/3/library/stdtypes.html."
      ]
    },
    {
      "cell_type": "markdown",
      "id": "635401d7",
      "metadata": {
        "id": "635401d7"
      },
      "source": [
        "### 1.1 Lists"
      ]
    },
    {
      "cell_type": "markdown",
      "id": "ce42dfd9",
      "metadata": {
        "id": "ce42dfd9"
      },
      "source": [
        "Lists are a data type in Python that contain structured items. They can be changed in many different ways."
      ]
    },
    {
      "cell_type": "markdown",
      "id": "fdc7ff0f",
      "metadata": {},
      "source": [
        "#### 1.1.1 Build a List with Five Names (Zach, Jay, Richard, Abi, Kevin)"
      ]
    },
    {
      "cell_type": "code",
      "execution_count": null,
      "id": "3f24605e",
      "metadata": {
        "id": "3f24605e"
      },
      "outputs": [],
      "source": [
        "# Initialize an example list containing names.\n",
        "names = [\"Zach\", \"Jay\"]"
      ]
    },
    {
      "cell_type": "code",
      "execution_count": null,
      "id": "ae2fb323",
      "metadata": {
        "colab": {
          "base_uri": "https://localhost:8080/"
        },
        "id": "ae2fb323",
        "outputId": "504fa423-23f8-42f9-9de1-183600722e3e"
      },
      "outputs": [],
      "source": [
        "# Access the first name in the list with indexing.\n",
        "print(names[0])"
      ]
    },
    {
      "cell_type": "code",
      "execution_count": null,
      "id": "64066853",
      "metadata": {
        "colab": {
          "base_uri": "https://localhost:8080/"
        },
        "id": "64066853",
        "outputId": "4de8cc78-90ae-496a-9960-32b2bca0efcb"
      },
      "outputs": [],
      "source": [
        "# Add a new name to the list with the .append method.\n",
        "names.append(\"Richard\")\n",
        "print(names)"
      ]
    },
    {
      "cell_type": "code",
      "execution_count": null,
      "id": "357799cc",
      "metadata": {
        "colab": {
          "base_uri": "https://localhost:8080/"
        },
        "id": "357799cc",
        "outputId": "0d92d03d-3a15-4ef6-83a7-96d6e6f36c61"
      },
      "outputs": [],
      "source": [
        "# Find the length of the list with the len() method.\n",
        "print(len(names))"
      ]
    },
    {
      "cell_type": "code",
      "execution_count": null,
      "id": "8977adcf",
      "metadata": {
        "colab": {
          "base_uri": "https://localhost:8080/"
        },
        "id": "8977adcf",
        "outputId": "74b3cbe0-a3c6-4aaf-90b8-3f4335abe8c0"
      },
      "outputs": [],
      "source": [
        "# Concatenate two lists together with the += operator.\n",
        "# The += operator is short hand for list1 = list1 + list2. It can also be used for -, *, and / as well as on other types of variables.\n",
        "names += [\"Abi\", \"Kevin\"]\n",
        "print(names)"
      ]
    },
    {
      "cell_type": "markdown",
      "id": "fdb6e2d0",
      "metadata": {},
      "source": [
        "#### 1.1.2 Other List Examples"
      ]
    },
    {
      "cell_type": "code",
      "execution_count": null,
      "id": "57c178a7",
      "metadata": {
        "id": "57c178a7"
      },
      "outputs": [],
      "source": [
        "# There are two ways to initialize an empty list.\n",
        "more_names = [] # One using square brackets.\n",
        "more_names = list() # One with the list() method."
      ]
    },
    {
      "cell_type": "code",
      "execution_count": null,
      "id": "7913fce7",
      "metadata": {
        "colab": {
          "base_uri": "https://localhost:8080/"
        },
        "id": "7913fce7",
        "outputId": "0f91fe15-6e63-4894-a4dc-87ea34ccb531",
        "scrolled": true
      },
      "outputs": [],
      "source": [
        "# Lists can contain different data types without issues.\n",
        "stuff = [1, [\"hi\", \"bye\"], -0.12, None] # Integers, inner lists, floats, null values, etc.\n",
        "print(stuff)"
      ]
    },
    {
      "cell_type": "markdown",
      "id": "68682c20",
      "metadata": {
        "id": "68682c20"
      },
      "source": [
        "#### 1.1.3 List Slicing \n",
        "List slicing is one way to change lists by accessing specific elements in a list or parts of a list."
      ]
    },
    {
      "cell_type": "code",
      "execution_count": null,
      "id": "8fc049ef",
      "metadata": {
        "colab": {
          "base_uri": "https://localhost:8080/"
        },
        "id": "8fc049ef",
        "outputId": "37a1b397-b34f-4f07-82a2-5392bd614ea3"
      },
      "outputs": [],
      "source": [
        "# Initialize an example array of the integers 0 to 6.\n",
        "# Always remember that Python code starts counting from 0.\n",
        "numbers = [0, 1, 2, 3, 4, 5, 6]\n",
        "\n",
        "# Slice the list from a given start index (inclusive) to a given end index (exclusive).\n",
        "print(numbers[0:3])"
      ]
    },
    {
      "cell_type": "code",
      "execution_count": null,
      "id": "3e34a509",
      "metadata": {
        "colab": {
          "base_uri": "https://localhost:8080/"
        },
        "id": "3e34a509",
        "outputId": "764bdcdb-794b-48e7-d12b-1095e91b0cbf"
      },
      "outputs": [],
      "source": [
        "# When start index is not specified, it is assumed to be the start of the list.\n",
        "print(numbers[:3])"
      ]
    },
    {
      "cell_type": "code",
      "execution_count": null,
      "id": "2dcbe8eb",
      "metadata": {},
      "outputs": [],
      "source": [
        "# When end index is not specified, it is assumed to be the end of the list.\n",
        "print(numbers[5:])"
      ]
    },
    {
      "cell_type": "code",
      "execution_count": null,
      "id": "813da35a",
      "metadata": {
        "colab": {
          "base_uri": "https://localhost:8080/"
        },
        "id": "813da35a",
        "outputId": "bc547329-e265-4659-82ef-e30b0ef409fd"
      },
      "outputs": [],
      "source": [
        "# Using ':' creates a copy (in memory) of all the elements in a list, which will be very useful later in NumPy.\n",
        "print(numbers[:])"
      ]
    },
    {
      "cell_type": "code",
      "execution_count": null,
      "id": "eaa197af",
      "metadata": {
        "colab": {
          "base_uri": "https://localhost:8080/"
        },
        "id": "eaa197af",
        "outputId": "4c1738c0-3cc2-46a5-ea02-ae37f426f6ae"
      },
      "outputs": [],
      "source": [
        "# Negative indices can be used to start at the end of list.\n",
        "print(numbers[-1])"
      ]
    },
    {
      "cell_type": "code",
      "execution_count": null,
      "id": "79c20110",
      "metadata": {},
      "outputs": [],
      "source": [
        "# Negative indices can be used for slicing in the same way, but in reverse.\n",
        "print(numbers[-3:])\n",
        "print(numbers[3:-2])"
      ]
    },
    {
      "cell_type": "markdown",
      "id": "22371049",
      "metadata": {
        "id": "22371049"
      },
      "source": [
        "### 1.2 Tuples"
      ]
    },
    {
      "cell_type": "markdown",
      "id": "bfca6098",
      "metadata": {
        "id": "bfca6098"
      },
      "source": [
        "Tuples are lists that cannot be changed. This includes adding elements, removing elements, and slicing."
      ]
    },
    {
      "cell_type": "code",
      "execution_count": null,
      "id": "b542e470",
      "metadata": {
        "id": "b542e470"
      },
      "outputs": [],
      "source": [
        "# Parentheses are used to define tuples, while lists use square brackets.\n",
        "names = (\"Zach\", \"Jay\")"
      ]
    },
    {
      "cell_type": "code",
      "execution_count": null,
      "id": "3906a033",
      "metadata": {
        "colab": {
          "base_uri": "https://localhost:8080/"
        },
        "id": "3906a033",
        "outputId": "d589ddd8-c62f-4f23-8790-9b9f9dd2b744"
      },
      "outputs": [],
      "source": [
        "# To access an element from the tuple or get the length of the tuple, the methods are the same as with lists.\n",
        "print(names[0])\n",
        "print(len(names))"
      ]
    },
    {
      "cell_type": "code",
      "execution_count": null,
      "id": "8799a4c5",
      "metadata": {
        "colab": {
          "base_uri": "https://localhost:8080/",
          "height": 182
        },
        "id": "8799a4c5",
        "outputId": "d85ff2f2-9d9c-40ee-bda3-5dbcb4b5841e"
      },
      "outputs": [],
      "source": [
        "# However, unlike lists, tuples do not allow item changes (this code will return an error).\n",
        "names[0] = \"Richard\""
      ]
    },
    {
      "cell_type": "code",
      "execution_count": null,
      "id": "9918ac4b",
      "metadata": {
        "colab": {
          "base_uri": "https://localhost:8080/"
        },
        "id": "9918ac4b",
        "outputId": "5df94620-0758-4a17-9b78-11840d7ed227"
      },
      "outputs": [],
      "source": [
        "# In addition to using parentheses for tuple initialization, the tuple() method can be used as well.\n",
        "empty = tuple()\n",
        "print(empty)\n",
        "\n",
        "# To create a tuple with a single item, a comma must be added after the item to ensure it is stored as a tuple.\n",
        "single = (10,)\n",
        "print(single)"
      ]
    },
    {
      "cell_type": "markdown",
      "id": "00800704",
      "metadata": {
        "id": "00800704"
      },
      "source": [
        "### 1.3 Dictionary"
      ]
    },
    {
      "cell_type": "markdown",
      "id": "8111c6c3",
      "metadata": {
        "id": "8111c6c3"
      },
      "source": [
        "Dictionaries are lists of mappings between keys and values. They are often used in AI to map characters to indices."
      ]
    },
    {
      "cell_type": "code",
      "execution_count": null,
      "id": "646bda2f",
      "metadata": {
        "id": "646bda2f"
      },
      "outputs": [],
      "source": [
        "# There are two ways to initialize an empty dictionary.\n",
        "phonebook = {} # One with curly brackets.\n",
        "phonebook = dict() # One with the dict() method."
      ]
    },
    {
      "cell_type": "code",
      "execution_count": null,
      "id": "65c67196",
      "metadata": {
        "id": "65c67196"
      },
      "outputs": [],
      "source": [
        "# To create dictionary with one item, a key-value pair has to be defined.\n",
        "phonebook = {\"Zach\": \"12-37\"} # In this example, it is a string-string pair, but other data types can be used as well."
      ]
    },
    {
      "cell_type": "code",
      "execution_count": null,
      "id": "ac1e90e0",
      "metadata": {},
      "outputs": [],
      "source": [
        "# To add another item to the dictionary, a given value must be assigned to a given key for the dictionary.\n",
        "phonebook[\"Jay\"] = \"34-23\" # Another string-string pair, but dictionary keys or values don't have to be the same types."
      ]
    },
    {
      "cell_type": "code",
      "execution_count": null,
      "id": "1bc431d9",
      "metadata": {
        "colab": {
          "base_uri": "https://localhost:8080/"
        },
        "id": "1bc431d9",
        "outputId": "f854999e-2bf3-4ad9-af67-0b9f214bf143"
      },
      "outputs": [],
      "source": [
        "# Sometimes, you need to check if a key is in the dictionary before referencing that key.\n",
        "print(\"Zach\" in phonebook) # Zach is in our example dictionary.\n",
        "print(\"Kevin\" in phonebook) # But Kevin is not."
      ]
    },
    {
      "cell_type": "code",
      "execution_count": null,
      "id": "87018123",
      "metadata": {
        "colab": {
          "base_uri": "https://localhost:8080/"
        },
        "id": "87018123",
        "outputId": "6706a4e5-aec7-40a7-9d1f-915558b9a582"
      },
      "outputs": [],
      "source": [
        "# Getting a corresponding value for a key in a dictionary can be done by calling the key within the dictionary.\n",
        "print(phonebook[\"Jay\"]) # What will be outputted?"
      ]
    },
    {
      "cell_type": "code",
      "execution_count": null,
      "id": "18555a3a",
      "metadata": {
        "colab": {
          "base_uri": "https://localhost:8080/"
        },
        "id": "18555a3a",
        "outputId": "def9ea35-d497-4278-ca9e-1777542a7357"
      },
      "outputs": [],
      "source": [
        "# The del keyword is used to delete a key-value pair from a dictionary.\n",
        "del phonebook[\"Zach\"]\n",
        "print(phonebook) # What will the example dictionary look like now?"
      ]
    },
    {
      "cell_type": "markdown",
      "id": "60aceb86",
      "metadata": {
        "id": "60aceb86"
      },
      "source": [
        "## 2. Loops\n",
        "Loops are a method in Python that are used to iterate over different data types. There are two different types of loops: for loops and while loops. They are both very important, but for loops are most commonly used for AI."
      ]
    },
    {
      "cell_type": "markdown",
      "id": "5d25813a",
      "metadata": {},
      "source": [
        "### 2.1 For Loops"
      ]
    },
    {
      "cell_type": "code",
      "execution_count": null,
      "id": "f7189f9d",
      "metadata": {
        "colab": {
          "base_uri": "https://localhost:8080/"
        },
        "id": "f7189f9d",
        "outputId": "fca407da-ccfc-4c8d-b3f8-2cb056ee16e7"
      },
      "outputs": [],
      "source": [
        "# A for loop is used to iterate over lists or dictionaries, and they are useful for looping in a set range.\n",
        "for i in range(5): # This line is the basis for the for loop - the general formatting is `for <variable> in <list>:`\n",
        "    # Every line of code inside the loop will start with spaces or a tab, called indentation.\n",
        "    # This helps tell the computer what is inside the loop and what is not.\n",
        "    print(i)"
      ]
    },
    {
      "cell_type": "markdown",
      "id": "61f97b1c",
      "metadata": {},
      "source": [
        "#### 2.1.1 Looping Through Lists"
      ]
    },
    {
      "cell_type": "code",
      "execution_count": null,
      "id": "10ae15db",
      "metadata": {
        "colab": {
          "base_uri": "https://localhost:8080/"
        },
        "id": "10ae15db",
        "outputId": "04a5147c-fc24-4376-9f87-31cc7d0ef041"
      },
      "outputs": [],
      "source": [
        "# To iterate over a list, the process is similar:\n",
        "names = [\"Zach\", \"Jay\", \"Richard\"]\n",
        "for name in names: # Using the same base formatting from before.\n",
        "    print(name)"
      ]
    },
    {
      "cell_type": "code",
      "execution_count": null,
      "id": "00d5035b",
      "metadata": {
        "colab": {
          "base_uri": "https://localhost:8080/"
        },
        "id": "00d5035b",
        "outputId": "e5f8d3f3-02c5-48fe-833e-93123a3ad5f5"
      },
      "outputs": [],
      "source": [
        "# There are two ways to iterate over the values in a list and their indices.\n",
        "\n",
        "# First, looping through the indices and accessing the corresponding list item for each index.\n",
        "for i in range(len(names)):\n",
        "    print(i, names[i])"
      ]
    },
    {
      "cell_type": "code",
      "execution_count": null,
      "id": "ed02c6c3",
      "metadata": {},
      "outputs": [],
      "source": [
        "# Second, using the enumerate() method on the list to get the value and its index at the same time.\n",
        "for i, name in enumerate(names):\n",
        "    print(i, name)"
      ]
    },
    {
      "cell_type": "markdown",
      "id": "cf8bbcb4",
      "metadata": {},
      "source": [
        "#### 2.1.2 Looping Through Dictionaries"
      ]
    },
    {
      "cell_type": "code",
      "execution_count": null,
      "id": "f18b7ce6",
      "metadata": {
        "colab": {
          "base_uri": "https://localhost:8080/"
        },
        "id": "f18b7ce6",
        "outputId": "68d2057f-4d63-4a7f-c5a2-359add5a71c3"
      },
      "outputs": [],
      "source": [
        "# For dictionaries, there are several different ways to iterate over them.\n",
        "phonebook = {\"Zach\": \"12-37\", \"Jay\": \"34-23\"}\n",
        "\n",
        "# To iterate over the keys, use the same format as the loop for the list.\n",
        "for name in phonebook:\n",
        "    print(name)\n",
        "\n",
        "print()\n",
        "\n",
        "# Another way to iterate over the keys is to call the .keys() method on the dictionary.\n",
        "for name in phonebook.keys():\n",
        "    print(name)"
      ]
    },
    {
      "cell_type": "code",
      "execution_count": null,
      "id": "801d1827",
      "metadata": {},
      "outputs": [],
      "source": [
        "# To iterate over the values, the .values() method can be used similar to .keys().\n",
        "for number in phonebook.values():\n",
        "    print(number)"
      ]
    },
    {
      "cell_type": "code",
      "execution_count": null,
      "id": "970876d4",
      "metadata": {},
      "outputs": [],
      "source": [
        "# To iterate over the keys and values in a dictionary, the .values() method is used with similar format to the enumerate() method from list looping.\n",
        "for name, number in phonebook.items():\n",
        "    print(name + ': ' + number)"
      ]
    },
    {
      "cell_type": "markdown",
      "id": "e9661ef4",
      "metadata": {
        "id": "e9661ef4"
      },
      "source": [
        "## 3. Python Libraries"
      ]
    },
    {
      "cell_type": "markdown",
      "id": "1db0ca2d",
      "metadata": {},
      "source": [
        "### 3.1 NumPy\n",
        "NumPy is a Python library that adds support for large, multi-dimensional arrays and matrices as well as a large collection of optimized, high-level mathematical functions to use with these arrays."
      ]
    },
    {
      "cell_type": "markdown",
      "id": "ecdb0df8",
      "metadata": {
        "id": "ecdb0df8"
      },
      "source": [
        "If you are doing this lab on Google Colab, then you can skip these instructions and continue the lab. \n",
        "\n",
        "If you are doing this lab locally, you may need to install NumPy first before importing it in the next cell.\n",
        "There are many ways to manage your packages, but we suggest you use Anaconda. Anaconda creates sections called conda environments on your computer so that anything you install within an environment does not affect anything outside the environment.\n",
        " - [Download Anaconda](https://www.anaconda.com/download/success). Create a new conda environment for this lab.\n",
        " - Depending on the coding software you are using, there will be different steps to enable your conda environment. To find these steps, search \"how to enable a conda environment in ...\" for your coding software."
      ]
    },
    {
      "cell_type": "code",
      "execution_count": null,
      "id": "ab7d3f32",
      "metadata": {
        "id": "ab7d3f32"
      },
      "outputs": [],
      "source": [
        "# Import NumPy as np for cleaner code in the future.\n",
        "import numpy as np"
      ]
    },
    {
      "cell_type": "code",
      "execution_count": null,
      "id": "6596eb30",
      "metadata": {
        "colab": {
          "base_uri": "https://localhost:8080/"
        },
        "id": "6596eb30",
        "outputId": "b08c870b-0e1a-4129-bfb8-b94ca4fca602",
        "scrolled": false
      },
      "outputs": [],
      "source": [
        "# NumPy arrays are similar to lists but support multiple dimensions and faster operations. They are defined with np.array.\n",
        "\n",
        "x = np.array([1, 2, 3]) # This NumPy array will be the same as a normal array but is called a vector because its only has one dimension.\n",
        "y = np.array([[3, 4, 5]]) # This NumPy array now has some dimensionality to it, but it is still a vector because it essentially has one dimension.\n",
        "z = np.array([[6, 7],[8, 9]]) # This NumPy array also has dimensionality, but now it is a matrix because it has two dimensions.\n",
        "\n",
        "# Let's see how NumPy defines these arrays' shapes.\n",
        "# When working with NumPy arrays, the .shape method tells you the shape of a given array. This will be a very useful for debugging and inspecting later.\n",
        "print(x.shape)\n",
        "print(y.shape)"
      ]
    },
    {
      "cell_type": "code",
      "execution_count": null,
      "id": "e8aab491",
      "metadata": {},
      "outputs": [],
      "source": [
        "# Based on the first 2 NumPy arrays' shapes, what will the last one look like?\n",
        "print(z)\n",
        "print()\n",
        "print(z.shape)"
      ]
    },
    {
      "cell_type": "markdown",
      "id": "f4b465bf",
      "metadata": {
        "id": "f4b465bf"
      },
      "source": [
        "Vectors are represented as 1-D arrays with shape (N,) or 2-D arrays with shape (N, 1) or (1, N). However, it is important to note that the shapes (N,), (N, 1), and (1, N) are not the same and may lead to different behaviors when manipulated.\n",
        "\n",
        "Matrices are generally represented as 2-D arrays of shape (M, N) or more.\n",
        "\n",
        "The best way to ensure your code has the behavior you expect is to keep track of your array shapes and refer back to documentation when unsure."
      ]
    },
    {
      "cell_type": "code",
      "execution_count": null,
      "id": "A0Wl4qioLmb-",
      "metadata": {
        "colab": {
          "base_uri": "https://localhost:8080/"
        },
        "id": "A0Wl4qioLmb-",
        "outputId": "120b2e64-68d3-4f7a-e643-6b7a0a91aece"
      },
      "outputs": [],
      "source": [
        "# Create a NumPy array that contains whole numbers from 0 till the provided number (exclusive) with the np.arange method.\n",
        "a = np.arange(10)\n",
        "print(a)"
      ]
    },
    {
      "cell_type": "code",
      "execution_count": null,
      "id": "6bb1e639",
      "metadata": {},
      "outputs": [],
      "source": [
        "# Use the np.reshape method to change the shape of this array.\n",
        "b = a.reshape((5, 2))\n",
        "print(b)"
      ]
    },
    {
      "cell_type": "markdown",
      "id": "bcb3f37c",
      "metadata": {
        "id": "bcb3f37c"
      },
      "source": [
        "#### 3.1.1 Array Operations"
      ]
    },
    {
      "cell_type": "markdown",
      "id": "18a8a694",
      "metadata": {
        "id": "18a8a694"
      },
      "source": [
        "##### 3.1.1.1 The np.max Method\n",
        "There are many NumPy operations that can be used to manipulate a NumPy array. Let's start with the np.max operation (documentation: https://numpy.org/doc/stable/reference/generated/numpy.ndarray.max.html)."
      ]
    },
    {
      "cell_type": "code",
      "execution_count": null,
      "id": "1fcf4220",
      "metadata": {
        "colab": {
          "base_uri": "https://localhost:8080/"
        },
        "id": "1fcf4220",
        "outputId": "4b63370e-2eb1-4891-9e2b-051a8484276e"
      },
      "outputs": [],
      "source": [
        "# First, define an example NumPy array to work with.\n",
        "x = np.array([[1, 2], [3, 4], [5, 6]])\n",
        "print(x)"
      ]
    },
    {
      "cell_type": "code",
      "execution_count": null,
      "id": "967221fa",
      "metadata": {},
      "outputs": [],
      "source": [
        "# What shape do you think this array will have?\n",
        "print(x.shape)"
      ]
    },
    {
      "cell_type": "code",
      "execution_count": null,
      "id": "df82f62e",
      "metadata": {
        "colab": {
          "base_uri": "https://localhost:8080/"
        },
        "id": "df82f62e",
        "outputId": "e5dffa24-26d4-47b2-fbb4-7853d049bdee"
      },
      "outputs": [],
      "source": [
        "# The np.max method can be used to get the highest number in each row, column, etc. to create a new array.\n",
        "print(np.max(x, axis = 1)) # axis = 0 means columns, axis = 1 means rows, axis = 2 means a different dimension, etc."
      ]
    },
    {
      "cell_type": "code",
      "execution_count": null,
      "id": "WDWPbijv7xsw",
      "metadata": {
        "colab": {
          "base_uri": "https://localhost:8080/"
        },
        "id": "WDWPbijv7xsw",
        "outputId": "a595b672-585a-4ef4-c62c-debff4c1cf61"
      },
      "outputs": [],
      "source": [
        "# This new array no longer needs a second dimension since each row was summarized into one value.\n",
        "print(np.max(x, axis = 1).shape) # What do you think the shape of the array will be?"
      ]
    },
    {
      "cell_type": "code",
      "execution_count": null,
      "id": "0e888b74",
      "metadata": {
        "colab": {
          "base_uri": "https://localhost:8080/"
        },
        "id": "0e888b74",
        "outputId": "3548a983-7500-4f6b-c3e9-65b1a99275fa"
      },
      "outputs": [],
      "source": [
        "# When the keepdims parameter is set to True, the array keeps its second dimension.\n",
        "print(np.max(x, axis = 1, keepdims = True))"
      ]
    },
    {
      "cell_type": "code",
      "execution_count": null,
      "id": "bs1NM9oR703c",
      "metadata": {
        "colab": {
          "base_uri": "https://localhost:8080/"
        },
        "id": "bs1NM9oR703c",
        "outputId": "31c8119a-2e77-4451-8f9a-d3968a4d2b60"
      },
      "outputs": [],
      "source": [
        "print(np.max(x, axis = 1, keepdims = True).shape) # What shape do you think this keepdims array will have?"
      ]
    },
    {
      "cell_type": "markdown",
      "id": "7c331429",
      "metadata": {},
      "source": [
        "##### 3.1.1.2 Matrix Operations\n",
        "Next, let's look at some matrix operations. First, let's start with an element-wise product (Hadamard product) where the corresponding elements in two matrices are multiplied to form a new matrix."
      ]
    },
    {
      "cell_type": "code",
      "execution_count": null,
      "id": "25aeb52d",
      "metadata": {
        "colab": {
          "base_uri": "https://localhost:8080/"
        },
        "id": "25aeb52d",
        "outputId": "e4bfaf4f-7bfa-472e-eac7-ac2e6390c13c"
      },
      "outputs": [],
      "source": [
        "# Define two NumPy arrays with the same dimensions.\n",
        "A = np.array([[1, 2], [3, 4]])\n",
        "B = np.array([[3, 3], [3, 3]])\n",
        "print(A)\n",
        "print(B)\n",
        "\n",
        "# Perform the element-wise product by using the * operator.\n",
        "print()\n",
        "print(A * B)"
      ]
    },
    {
      "cell_type": "markdown",
      "id": "62696957",
      "metadata": {
        "id": "62696957"
      },
      "source": [
        "The dot product is another way to manipulate matrices, but it is more commonly used for vectors. The dot product multiplies each of the corresponding elements in each vector and sums all of those products to reach a final answer."
      ]
    },
    {
      "cell_type": "code",
      "execution_count": null,
      "id": "0caf84b9",
      "metadata": {
        "colab": {
          "base_uri": "https://localhost:8080/"
        },
        "id": "0caf84b9",
        "outputId": "a9feee27-6a8f-4e75-9ba3-243569a1e62f"
      },
      "outputs": [],
      "source": [
        "# Define two vectors with the same shape to be compatible for the dot product.\n",
        "u = np.array([1, 2, 3])\n",
        "v = np.array([1, 10, 100])\n",
        "\n",
        "print(np.dot(u, v)) # Perform the dot product calculation with the np.dot method.\n",
        "# This will calculate (1 * 1) + (2 * 10) + (3 * 100) = 321.\n",
        "\n",
        "print(u.dot(v)) # Another way to perform the dot product is to call the dot product of one vector on another vector."
      ]
    },
    {
      "cell_type": "markdown",
      "id": "71c19f50",
      "metadata": {},
      "source": [
        "Let's try the dot product with two arrays that have different dimensions."
      ]
    },
    {
      "cell_type": "code",
      "execution_count": null,
      "id": "43e635bb",
      "metadata": {
        "colab": {
          "base_uri": "https://localhost:8080/"
        },
        "id": "43e635bb",
        "outputId": "62cb79e7-a050-4e1c-a9b8-caedbe19a441"
      },
      "outputs": [],
      "source": [
        "# Define another NumPy array to see what will happen to the dot product.\n",
        "W = np.array([[1, 2], [3, 4], [5, 6]])\n",
        "print(v.shape) # This is the shape of the previous vector that we worked with.\n",
        "print()\n",
        "print(W.shape) # What do you think the new matrix's shape will be?"
      ]
    },
    {
      "cell_type": "code",
      "execution_count": null,
      "id": "a31f3c11",
      "metadata": {},
      "outputs": [],
      "source": [
        "# Let's take the dot product of the vector and the matrix to see what happens.\n",
        "print(np.dot(v, W))\n",
        "print(np.dot(v, W).shape)"
      ]
    },
    {
      "cell_type": "code",
      "execution_count": null,
      "id": "683dd6ee",
      "metadata": {
        "colab": {
          "base_uri": "https://localhost:8080/",
          "height": 217
        },
        "id": "683dd6ee",
        "outputId": "f336b678-ff97-4192-bf69-fac68817342a"
      },
      "outputs": [],
      "source": [
        "# That dot product worked because the first vector could be multiplied with the first column and the second column of the matrix to create a new matrix with two values.\n",
        "\n",
        "# This new dot product does not work. Why do you think that is?\n",
        "print(np.dot(W, v))"
      ]
    },
    {
      "cell_type": "code",
      "execution_count": null,
      "id": "9e8b2184",
      "metadata": {
        "colab": {
          "base_uri": "https://localhost:8080/"
        },
        "id": "9e8b2184",
        "outputId": "b89a0299-edda-47fb-87a5-1b28b85b5242"
      },
      "outputs": [],
      "source": [
        "# That dot product did not work because the matrix could not be multiplied into a vector where the dimensions of the matrix does not match the vector.\n",
        "# This issue can be resolved by transposing W, which switches the data in the rows and columns.\n",
        "print(W)\n",
        "print()\n",
        "print(W.T)"
      ]
    },
    {
      "cell_type": "code",
      "execution_count": null,
      "id": "3bb5f76c",
      "metadata": {},
      "outputs": [],
      "source": [
        "# What do you expect the output of this dot product to be? What shape will this output have?\n",
        "print(np.dot(W.T, v))\n",
        "print(np.dot(W.T, v).shape)"
      ]
    },
    {
      "cell_type": "markdown",
      "id": "689f2a8d",
      "metadata": {
        "id": "689f2a8d"
      },
      "source": [
        "Matrix multiplication combines two matrices by taking the dot product of each row from the first matrix and each column from the second matrix. Then, these dot products are combined to create one new matrix.\n",
        "\n",
        "This is similar to the dot product example we last examined."
      ]
    },
    {
      "cell_type": "code",
      "execution_count": null,
      "id": "c76ec303",
      "metadata": {
        "colab": {
          "base_uri": "https://localhost:8080/"
        },
        "id": "c76ec303",
        "outputId": "d36b6d3d-5cad-497b-d263-25f6107a7fd2"
      },
      "outputs": [],
      "source": [
        "# There are two ways to perform matrix multiplication.\n",
        "print(np.matmul(A, B)) # One with the np.matmul method.\n",
        "print(A @ B) # One with the @ operator."
      ]
    },
    {
      "cell_type": "markdown",
      "id": "c13199d8",
      "metadata": {
        "id": "c13199d8"
      },
      "source": [
        "#### 3.1.2 Indexing"
      ]
    },
    {
      "cell_type": "markdown",
      "id": "d3d3d5c2",
      "metadata": {
        "id": "d3d3d5c2"
      },
      "source": [
        "Slicing / indexing numpy arrays is a extension of the Python concept of slicing (lists) to N dimensions."
      ]
    },
    {
      "cell_type": "code",
      "execution_count": null,
      "id": "bb930e29",
      "metadata": {
        "colab": {
          "base_uri": "https://localhost:8080/"
        },
        "id": "bb930e29",
        "outputId": "6bc7bcbe-3313-456b-c4e2-a542d4a63a06",
        "scrolled": true
      },
      "outputs": [],
      "source": [
        "# Initialize a NumPy array with shape 3 x 4 that contains randomly generated real numbers.\n",
        "x = np.random.random((3, 4))\n",
        "\n",
        "# The ':' method selects the entire array.\n",
        "print(x[:])"
      ]
    },
    {
      "cell_type": "code",
      "execution_count": null,
      "id": "16d0fe9a",
      "metadata": {
        "colab": {
          "base_uri": "https://localhost:8080/"
        },
        "id": "16d0fe9a",
        "outputId": "07b3702f-64f6-437f-8b5d-26d72ffd1d00"
      },
      "outputs": [],
      "source": [
        "# We can create another NumPy array that contains the values 0 and 2 and combine that vector with the ':' method to select all the elements in the 1st and 3rd rows.\n",
        "print(x[np.array([0, 2]), :])"
      ]
    },
    {
      "cell_type": "code",
      "execution_count": null,
      "id": "b2f9e4c5",
      "metadata": {},
      "outputs": [],
      "source": [
        "# We can also select the 1st row as a vector and further select its 1st and 2nd elements.\n",
        "print(x[1, 1:3])"
      ]
    },
    {
      "cell_type": "code",
      "execution_count": null,
      "id": "04bf1911",
      "metadata": {
        "colab": {
          "base_uri": "https://localhost:8080/"
        },
        "id": "04bf1911",
        "outputId": "9fa8d581-f646-46cf-a752-f01a1ced48ca"
      },
      "outputs": [],
      "source": [
        "# All of the values that return True for a given Boolean expression can be extracted to create a new vector containing them.\n",
        "print(x[x > 0.5])"
      ]
    },
    {
      "cell_type": "code",
      "execution_count": null,
      "id": "118924a3",
      "metadata": {
        "colab": {
          "base_uri": "https://localhost:8080/"
        },
        "id": "118924a3",
        "outputId": "79d5d19b-1230-4728-8f6e-039aa56fe7f0"
      },
      "outputs": [],
      "source": [
        "# A 3-D matrix with shape (3, 4, 1) can also be created using the ':' method and the np.newaxis method.\n",
        "print(x[:, :, np.newaxis])"
      ]
    },
    {
      "cell_type": "markdown",
      "id": "48e1704f",
      "metadata": {
        "id": "48e1704f"
      },
      "source": [
        "#### 3.1.3 Broadcasting"
      ]
    },
    {
      "cell_type": "markdown",
      "id": "40d35521",
      "metadata": {
        "id": "40d35521"
      },
      "source": [
        "The term broadcasting describes how NumPy manipulates arrays with different shapes in order to correctly perform arithmetic operations on them.\n",
        "\n",
        "**General Broadcasting Rules** \n",
        "\n",
        "When operating on two arrays, NumPy compares their shapes element-wise starting with the rightmost dimension and moving to the left. Two dimensions are compatible when:\n",
        "- they are equal, or\n",
        "- one of them is 1 (in which case, elements on the axis are repeated along the dimension)\n",
        "\n",
        "More details can be found at https://numpy.org/doc/stable/user/basics.broadcasting.html"
      ]
    },
    {
      "cell_type": "code",
      "execution_count": null,
      "id": "e3f0c8b1",
      "metadata": {
        "id": "e3f0c8b1"
      },
      "outputs": [],
      "source": [
        "# Initialize another NumPy array with shape 3 x 4 that contains randomly generated real numbers.\n",
        "x = np.random.random((3, 4))\n",
        "\n",
        "# Initialize two more random NumPy arrays with shape 3 x 1 and 1 x 4, respectively.\n",
        "y = np.random.random((3, 1))\n",
        "z = np.random.random((1, 4))\n",
        "\n",
        "# In this example, the last two arrays are broadcasted to match the shape of the first array."
      ]
    },
    {
      "cell_type": "code",
      "execution_count": null,
      "id": "93cdfc8a",
      "metadata": {
        "colab": {
          "base_uri": "https://localhost:8080/"
        },
        "id": "93cdfc8a",
        "outputId": "a350d379-ffc0-4366-d430-1e04af352fac"
      },
      "outputs": [],
      "source": [
        "# Let's add the first and second arrays to see how broadcasting works.\n",
        "s = x + y\n",
        "\n",
        "print(x.shape)\n",
        "print(y.shape)\n",
        "\n",
        "# The second array is broadcasted along its rows.\n",
        "print()\n",
        "print(s.shape)"
      ]
    },
    {
      "cell_type": "code",
      "execution_count": null,
      "id": "a77b76bc",
      "metadata": {
        "colab": {
          "base_uri": "https://localhost:8080/"
        },
        "id": "a77b76bc",
        "outputId": "e7086c7a-51b8-45a7-838f-4d7f270e2bcd"
      },
      "outputs": [],
      "source": [
        "# For another example, let's perform an element-wise product for the first and third arrays.\n",
        "p = x * z\n",
        "\n",
        "print(x.shape)\n",
        "print(z.shape)\n",
        "\n",
        "# The third array is broadcasted along its columns.\n",
        "print()\n",
        "print(p.shape)"
      ]
    },
    {
      "cell_type": "code",
      "execution_count": null,
      "id": "FICMa8RiMR08",
      "metadata": {
        "colab": {
          "base_uri": "https://localhost:8080/"
        },
        "id": "FICMa8RiMR08",
        "outputId": "38f90bfd-f567-4e14-d18e-d54ac7a23d79"
      },
      "outputs": [],
      "source": [
        "# Let's initialize two new NumPy arrays to further see how broadcasting works.\n",
        "a = np.zeros((3, 3)) # This array will be a 3 x 3 matrix of zeros.\n",
        "b = np.array([[1, 2, 3]]) # This array will be a 3 x 1 vector containing the integers 1, 2, and 3.\n",
        "\n",
        "# What do you think these arrays will look like?\n",
        "print(a)\n",
        "print()\n",
        "print(b)"
      ]
    },
    {
      "cell_type": "code",
      "execution_count": null,
      "id": "4a960ac4",
      "metadata": {},
      "outputs": [],
      "source": [
        "# Let's see what happens when we add these arrays together.\n",
        "print(a+b)"
      ]
    },
    {
      "cell_type": "markdown",
      "id": "fec8ae1e",
      "metadata": {
        "id": "fec8ae1e"
      },
      "source": [
        "Now that we have covered the basics of broadcasting, let's look at a more complex example."
      ]
    },
    {
      "cell_type": "code",
      "execution_count": null,
      "id": "2b1b271d",
      "metadata": {
        "id": "2b1b271d"
      },
      "outputs": [],
      "source": [
        "# Let's define three new NumPy arrays:\n",
        "a = np.random.random((3, 4)) # 3 x 4\n",
        "b = np.random.random((3, 1)) # 3 x 1\n",
        "c = np.random.random((3, )) # 3\n",
        "\n",
        "print(a)\n",
        "print()\n",
        "print(b)\n",
        "print()\n",
        "print(c)"
      ]
    },
    {
      "cell_type": "markdown",
      "id": "972fda59",
      "metadata": {
        "id": "972fda59"
      },
      "source": [
        "While we go through the next few examples, think about these questions:\n",
        "- What is the expected broadcasting behavior for these operations?\n",
        "- What do the following operations give us?\n",
        "- What are the resulting shapes?"
      ]
    },
    {
      "cell_type": "code",
      "execution_count": null,
      "id": "ab0e1d5b",
      "metadata": {
        "colab": {
          "base_uri": "https://localhost:8080/"
        },
        "id": "ab0e1d5b",
        "outputId": "95735143-16d4-4d23-994c-3220e7caa718"
      },
      "outputs": [],
      "source": [
        "# Let's try adding the second array and its transposition.\n",
        "result1 = b + b.T\n",
        "\n",
        "# What do you think the shapes of these arrays will be?\n",
        "print(b.shape)\n",
        "print(b.T.shape)"
      ]
    },
    {
      "cell_type": "code",
      "execution_count": null,
      "id": "1d64880b",
      "metadata": {},
      "outputs": [],
      "source": [
        "# What will the output of this operation look like, and what will its shape be?\n",
        "print(result1)\n",
        "print(result1.shape)"
      ]
    },
    {
      "cell_type": "code",
      "execution_count": null,
      "id": "d7e113be",
      "metadata": {
        "colab": {
          "base_uri": "https://localhost:8080/",
          "height": 235
        },
        "id": "d7e113be",
        "outputId": "67f13069-0f4c-4230-a3e7-05ba480acb73",
        "scrolled": true
      },
      "outputs": [],
      "source": [
        "# Now, let's try adding the first and third array together. Do you think this will work?\n",
        "# Remember, the shape of the first array is 3 x 4 and the shape of the third array is only 3.\n",
        "result2 = a + c"
      ]
    },
    {
      "cell_type": "code",
      "execution_count": null,
      "id": "50f54f23",
      "metadata": {},
      "outputs": [],
      "source": [
        "# This operation did not work because the two arrays have incompatible dimensions, and there is no clear way to broadcast either array to make it work.\n",
        "# There are two ways to resolve this problem.\n",
        "\n",
        "# First, you can transpose the first array so that broadcasting can add the third array to each row of the transposed array for the operation.\n",
        "result2 = a.T + c\n",
        "\n",
        "# However, the result will have to be transposed back to have the correct dimensionality.\n",
        "print(result2.T)"
      ]
    },
    {
      "cell_type": "code",
      "execution_count": null,
      "id": "32f1e903",
      "metadata": {},
      "outputs": [],
      "source": [
        "# Second, you can add a second dimension to the third array so that its shape becomes 3 x 1.\n",
        "result2 = a + c[:, np.newaxis]\n",
        "\n",
        "print(result2)\n",
        "# Can you come up with any other ways to fix this problem?"
      ]
    },
    {
      "cell_type": "code",
      "execution_count": null,
      "id": "e91c0c70",
      "metadata": {
        "colab": {
          "base_uri": "https://localhost:8080/"
        },
        "id": "e91c0c70",
        "outputId": "0a6f644c-9e73-43e9-9215-207a8f3f7dc2"
      },
      "outputs": [],
      "source": [
        "# Let's try a final operation by adding the second and third arrays.\n",
        "result3 = b + c\n",
        "\n",
        "# Will this operation work? If so, how did broadcasting make this operation work?\n",
        "# What will the output of this operation look like, and what will its shape be?\n",
        "print(result3)\n",
        "print(result3.shape)"
      ]
    },
    {
      "cell_type": "markdown",
      "id": "0a845479",
      "metadata": {
        "id": "0a845479"
      },
      "source": [
        "#### 3.1.4 Efficient NumPy Code"
      ]
    },
    {
      "cell_type": "markdown",
      "id": "55c8d74f",
      "metadata": {
        "id": "55c8d74f"
      },
      "source": [
        "When working with NumPy arrays, avoid using for loops over indices/axes as they will dramatically slow down your code (usually by about 10-100x).\n",
        "\n",
        "For example, let's compare the for loop and NumPy operations. We can time each of these codes using the %%timeit command from Jupyter notebooks and Google Colab."
      ]
    },
    {
      "cell_type": "code",
      "execution_count": null,
      "id": "ba02c912",
      "metadata": {
        "colab": {
          "base_uri": "https://localhost:8080/"
        },
        "id": "ba02c912",
        "outputId": "62191287-3cdf-420a-c4e9-c7bcac31ad57"
      },
      "outputs": [],
      "source": [
        "%%timeit\n",
        "# This is the explicit for loop that attempts to add 5 to every element in rows 100 to 1000 in a 1000 x 1000 NumPy array.\n",
        "slowX = np.random.rand(1000, 1000)\n",
        "for i in range(100, 1000):\n",
        "    for j in range(1000):\n",
        "        slowX[i, j] += 5"
      ]
    },
    {
      "cell_type": "code",
      "execution_count": null,
      "id": "3c96fc83",
      "metadata": {
        "colab": {
          "base_uri": "https://localhost:8080/"
        },
        "id": "3c96fc83",
        "outputId": "95c8a7c3-638c-4c2a-8f86-51492f60d85f"
      },
      "outputs": [],
      "source": [
        "%%timeit\n",
        "# This code does the exact same thing, but with NumPy operations to achieve an extremely faster speed.\n",
        "fastX = np.random.rand(1000, 1000)\n",
        "fastX[np.arange(100,1000), :] += 5"
      ]
    },
    {
      "cell_type": "markdown",
      "id": "e0e69e89",
      "metadata": {},
      "source": [
        "You can see from the console outputs of both code blocks that the NumPy operations are far faster than the standard Python for loop."
      ]
    }
  ],
  "metadata": {
    "colab": {
      "provenance": []
    },
    "kernelspec": {
      "display_name": ".venv",
      "language": "python",
      "name": "python3"
    },
    "language_info": {
      "codemirror_mode": {
        "name": "ipython",
        "version": 3
      },
      "file_extension": ".py",
      "mimetype": "text/x-python",
      "name": "python",
      "nbconvert_exporter": "python",
      "pygments_lexer": "ipython3",
      "version": "3.13.0"
    }
  },
  "nbformat": 4,
  "nbformat_minor": 5
}
