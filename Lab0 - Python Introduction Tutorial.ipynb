{
  "cells": [
    {
      "cell_type": "markdown",
      "id": "733f8cec",
      "metadata": {
        "id": "733f8cec"
      },
      "source": [
        "# Python Introduction Tutorial"
      ]
    },
    {
      "cell_type": "markdown",
      "id": "ef8e216a",
      "metadata": {
        "id": "ef8e216a"
      },
      "source": [
        "<table align=\"center\">\n",
        "<td align=\"center\"><a target=\"_blank\" href=\"http://inspiredk.org\">\n",
        "<img align=\"center\" src=\"https://i.ibb.co/Z6HZPSbH/Inspired-K-org-Logo-No-Whitespace-Extra-Small.png\" style=\"padding-bottom:10px;\" />InspiredK.org Website</a></td>\n",
        "\n",
        "<td align=\"center\"><a target=\"_blank\" href=\"https://colab.research.google.com/github/InspiredK-organization/PythonTutorial/blob/main/Lab0 - Python Introduction Tutorial.ipynb\">\n",
        "<img align=\"center\" src=\"https://i.ibb.co/2P3SLwK/colab.png\" style=\"padding-bottom:10px;\" />Run in Google Colab</a></td>\n",
        "</table>"
      ]
    },
    {
      "cell_type": "markdown",
      "id": "8c1c5651",
      "metadata": {
        "id": "8c1c5651"
      },
      "source": [
        "In this lab, we will practice working with some of Python's basics that are very helpful for AI including Python's built-in data types (lists, tuples, and dictionaries), loops, and Python libraries (NumPy)."
      ]
    },
    {
      "cell_type": "markdown",
      "id": "347cd487",
      "metadata": {
        "id": "347cd487"
      },
      "source": [
        "## 1. Python's Built-in Types"
      ]
    },
    {
      "cell_type": "markdown",
      "id": "e691f94d",
      "metadata": {
        "id": "e691f94d"
      },
      "source": [
        "Python has several built-in types that are useful for storing and manipulating data: lists, tuples, and dictionaries.\n",
        "\n",
        "Here is the official Python documentation on these types (and many others): https://docs.python.org/3/library/stdtypes.html."
      ]
    },
    {
      "cell_type": "markdown",
      "id": "635401d7",
      "metadata": {
        "id": "635401d7"
      },
      "source": [
        "### 1.1 Lists"
      ]
    },
    {
      "cell_type": "markdown",
      "id": "ce42dfd9",
      "metadata": {
        "id": "ce42dfd9"
      },
      "source": [
        "Lists are a data type in Python that contain structured items. They can be changed in many different ways."
      ]
    },
    {
      "cell_type": "markdown",
      "id": "fdc7ff0f",
      "metadata": {
        "id": "fdc7ff0f"
      },
      "source": [
        "#### 1.1.1 Build a List with Five Names (Zach, Jay, Richard, Abi, Kevin)"
      ]
    },
    {
      "cell_type": "code",
      "execution_count": null,
      "id": "3f24605e",
      "metadata": {
        "id": "3f24605e"
      },
      "outputs": [],
      "source": [
        "# Initialize an example list containing names.\n",
        "names = [\"Zach\", \"Jay\"]"
      ]
    },
    {
      "cell_type": "code",
      "execution_count": null,
      "id": "ae2fb323",
      "metadata": {
        "id": "ae2fb323"
      },
      "outputs": [],
      "source": [
        "# Access the first name in the list with indexing.\n",
        "print(names[0])"
      ]
    },
    {
      "cell_type": "code",
      "execution_count": null,
      "id": "64066853",
      "metadata": {
        "id": "64066853"
      },
      "outputs": [],
      "source": [
        "# Add a new name to the list with the .append method.\n",
        "names.append(\"Richard\")\n",
        "print(names)"
      ]
    },
    {
      "cell_type": "code",
      "execution_count": null,
      "id": "357799cc",
      "metadata": {
        "id": "357799cc"
      },
      "outputs": [],
      "source": [
        "# Find the length of the list with the len() method.\n",
        "print(len(names))"
      ]
    },
    {
      "cell_type": "code",
      "execution_count": null,
      "id": "8977adcf",
      "metadata": {
        "id": "8977adcf"
      },
      "outputs": [],
      "source": [
        "# Concatenate two lists together with the += operator.\n",
        "# The += operator is short hand for list1 = list1 + list2. It can also be used for -, *, and / as well as on other types of variables.\n",
        "names += [\"Abi\", \"Kevin\"]\n",
        "print(names)"
      ]
    },
    {
      "cell_type": "markdown",
      "id": "fdb6e2d0",
      "metadata": {
        "id": "fdb6e2d0"
      },
      "source": [
        "#### 1.1.2 Other List Examples"
      ]
    },
    {
      "cell_type": "code",
      "execution_count": null,
      "id": "57c178a7",
      "metadata": {
        "id": "57c178a7"
      },
      "outputs": [],
      "source": [
        "# There are two ways to initialize an empty list.\n",
        "more_names = [] # One using square brackets.\n",
        "more_names = list() # One with the list() method."
      ]
    },
    {
      "cell_type": "code",
      "execution_count": null,
      "id": "7913fce7",
      "metadata": {
        "id": "7913fce7",
        "scrolled": true
      },
      "outputs": [],
      "source": [
        "# Lists can contain different data types without issues.\n",
        "stuff = [1, [\"hi\", \"bye\"], -0.12, None] # Integers, inner lists, floats, null values, etc.\n",
        "print(stuff)"
      ]
    },
    {
      "cell_type": "markdown",
      "id": "68682c20",
      "metadata": {
        "id": "68682c20"
      },
      "source": [
        "#### 1.1.3 List Slicing\n",
        "List slicing is one way to change lists by accessing specific elements in a list or parts of a list."
      ]
    },
    {
      "cell_type": "code",
      "execution_count": null,
      "id": "8fc049ef",
      "metadata": {
        "id": "8fc049ef"
      },
      "outputs": [],
      "source": [
        "# Initialize an example array of the integers 0 to 6.\n",
        "# Always remember that Python code starts counting from 0.\n",
        "numbers = [0, 1, 2, 3, 4, 5, 6]\n",
        "\n",
        "# Slice the list from a given start index (inclusive) to a given end index (exclusive).\n",
        "print(numbers[0:3])"
      ]
    },
    {
      "cell_type": "code",
      "execution_count": null,
      "id": "3e34a509",
      "metadata": {
        "id": "3e34a509"
      },
      "outputs": [],
      "source": [
        "# When start index is not specified, it is assumed to be the start of the list.\n",
        "print(numbers[:3])"
      ]
    },
    {
      "cell_type": "code",
      "execution_count": null,
      "id": "2dcbe8eb",
      "metadata": {
        "id": "2dcbe8eb"
      },
      "outputs": [],
      "source": [
        "# When end index is not specified, it is assumed to be the end of the list.\n",
        "print(numbers[5:])"
      ]
    },
    {
      "cell_type": "code",
      "execution_count": null,
      "id": "813da35a",
      "metadata": {
        "id": "813da35a"
      },
      "outputs": [],
      "source": [
        "# Using ':' creates a copy (in memory) of all the elements in a list, which will be very useful later in NumPy.\n",
        "print(numbers[:])"
      ]
    },
    {
      "cell_type": "code",
      "execution_count": null,
      "id": "eaa197af",
      "metadata": {
        "id": "eaa197af"
      },
      "outputs": [],
      "source": [
        "# Negative indices can be used to start at the end of list.\n",
        "print(numbers[-1])"
      ]
    },
    {
      "cell_type": "code",
      "execution_count": null,
      "id": "79c20110",
      "metadata": {
        "id": "79c20110"
      },
      "outputs": [],
      "source": [
        "# Negative indices can be used for slicing in the same way, but in reverse.\n",
        "print(numbers[-3:])\n",
        "print(numbers[3:-2])"
      ]
    },
    {
      "cell_type": "markdown",
      "id": "22371049",
      "metadata": {
        "id": "22371049"
      },
      "source": [
        "### 1.2 Tuples"
      ]
    },
    {
      "cell_type": "markdown",
      "id": "bfca6098",
      "metadata": {
        "id": "bfca6098"
      },
      "source": [
        "Tuples are lists that cannot be changed. This includes adding elements, removing elements, and slicing."
      ]
    },
    {
      "cell_type": "code",
      "execution_count": null,
      "id": "b542e470",
      "metadata": {
        "id": "b542e470"
      },
      "outputs": [],
      "source": [
        "# Parentheses are used to define tuples, while lists use square brackets.\n",
        "names = (\"Zach\", \"Jay\")"
      ]
    },
    {
      "cell_type": "code",
      "execution_count": null,
      "id": "3906a033",
      "metadata": {
        "id": "3906a033"
      },
      "outputs": [],
      "source": [
        "# To access an element from the tuple or get the length of the tuple, the methods are the same as with lists.\n",
        "print(names[0])\n",
        "print(len(names))"
      ]
    },
    {
      "cell_type": "code",
      "execution_count": null,
      "id": "8799a4c5",
      "metadata": {
        "id": "8799a4c5"
      },
      "outputs": [],
      "source": [
        "# However, unlike lists, tuples do not allow item changes (this code will return an error).\n",
        "names[0] = \"Richard\""
      ]
    },
    {
      "cell_type": "code",
      "execution_count": null,
      "id": "9918ac4b",
      "metadata": {
        "id": "9918ac4b"
      },
      "outputs": [],
      "source": [
        "# In addition to using parentheses for tuple initialization, the tuple() method can be used as well.\n",
        "empty = tuple()\n",
        "print(empty)\n",
        "\n",
        "# To create a tuple with a single item, a comma must be added after the item to ensure it is stored as a tuple.\n",
        "single = (10,)\n",
        "print(single)"
      ]
    },
    {
      "cell_type": "markdown",
      "id": "00800704",
      "metadata": {
        "id": "00800704"
      },
      "source": [
        "### 1.3 Dictionary"
      ]
    },
    {
      "cell_type": "markdown",
      "id": "8111c6c3",
      "metadata": {
        "id": "8111c6c3"
      },
      "source": [
        "Dictionaries are lists of mappings between keys and values. They are often used in AI to map characters to indices."
      ]
    },
    {
      "cell_type": "code",
      "execution_count": null,
      "id": "646bda2f",
      "metadata": {
        "id": "646bda2f"
      },
      "outputs": [],
      "source": [
        "# There are two ways to initialize an empty dictionary.\n",
        "phonebook = {} # One with curly brackets.\n",
        "phonebook = dict() # One with the dict() method."
      ]
    },
    {
      "cell_type": "code",
      "execution_count": null,
      "id": "65c67196",
      "metadata": {
        "id": "65c67196"
      },
      "outputs": [],
      "source": [
        "# To create dictionary with one item, a key-value pair has to be defined.\n",
        "phonebook = {\"Zach\": \"12-37\"} # In this example, it is a string-string pair, but other data types can be used as well."
      ]
    },
    {
      "cell_type": "code",
      "execution_count": null,
      "id": "ac1e90e0",
      "metadata": {
        "id": "ac1e90e0"
      },
      "outputs": [],
      "source": [
        "# To add another item to the dictionary, a given value must be assigned to a given key for the dictionary.\n",
        "phonebook[\"Jay\"] = \"34-23\" # Another string-string pair, but dictionary keys or values don't have to be the same types."
      ]
    },
    {
      "cell_type": "code",
      "execution_count": null,
      "id": "1bc431d9",
      "metadata": {
        "id": "1bc431d9"
      },
      "outputs": [],
      "source": [
        "# Sometimes, you need to check if a key is in the dictionary before referencing that key.\n",
        "print(\"Zach\" in phonebook) # Zach is in our example dictionary.\n",
        "print(\"Kevin\" in phonebook) # But Kevin is not."
      ]
    },
    {
      "cell_type": "code",
      "execution_count": null,
      "id": "87018123",
      "metadata": {
        "id": "87018123"
      },
      "outputs": [],
      "source": [
        "# Getting a corresponding value for a key in a dictionary can be done by calling the key within the dictionary.\n",
        "print(phonebook[\"Jay\"]) # What will be outputted?"
      ]
    },
    {
      "cell_type": "code",
      "execution_count": null,
      "id": "18555a3a",
      "metadata": {
        "id": "18555a3a"
      },
      "outputs": [],
      "source": [
        "# The del keyword is used to delete a key-value pair from a dictionary.\n",
        "del phonebook[\"Zach\"]\n",
        "print(phonebook) # What will the example dictionary look like now?"
      ]
    },
    {
      "cell_type": "markdown",
      "id": "60aceb86",
      "metadata": {
        "id": "60aceb86"
      },
      "source": [
        "## 2. Loops\n",
        "Loops are a method in Python that are used to iterate over different data types. There are two different types of loops: for loops and while loops. They are both very important, but for loops are most commonly used for AI."
      ]
    },
    {
      "cell_type": "markdown",
      "id": "5d25813a",
      "metadata": {
        "id": "5d25813a"
      },
      "source": [
        "### 2.1 For Loops"
      ]
    },
    {
      "cell_type": "code",
      "execution_count": null,
      "id": "f7189f9d",
      "metadata": {
        "id": "f7189f9d"
      },
      "outputs": [],
      "source": [
        "# A for loop is used to iterate over lists or dictionaries, and they are useful for looping in a set range.\n",
        "for i in range(5): # This line is the basis for the for loop - the general formatting is `for <variable> in <list>:`\n",
        "    # Every line of code inside the loop will start with spaces or a tab, called indentation.\n",
        "    # This helps tell the computer what is inside the loop and what is not.\n",
        "    print(i)"
      ]
    },
    {
      "cell_type": "markdown",
      "id": "61f97b1c",
      "metadata": {
        "id": "61f97b1c"
      },
      "source": [
        "#### 2.1.1 Looping Through Lists"
      ]
    },
    {
      "cell_type": "code",
      "execution_count": null,
      "id": "10ae15db",
      "metadata": {
        "id": "10ae15db"
      },
      "outputs": [],
      "source": [
        "# To iterate over a list, the process is similar:\n",
        "names = [\"Zach\", \"Jay\", \"Richard\"]\n",
        "for name in names: # Using the same base formatting from before.\n",
        "    print(name)"
      ]
    },
    {
      "cell_type": "code",
      "execution_count": null,
      "id": "00d5035b",
      "metadata": {
        "id": "00d5035b"
      },
      "outputs": [],
      "source": [
        "# There are two ways to iterate over the values in a list and their indices.\n",
        "\n",
        "# First, looping through the indices and accessing the corresponding list item for each index.\n",
        "for i in range(len(names)):\n",
        "    print(i, names[i])"
      ]
    },
    {
      "cell_type": "code",
      "execution_count": null,
      "id": "ed02c6c3",
      "metadata": {
        "id": "ed02c6c3"
      },
      "outputs": [],
      "source": [
        "# Second, using the enumerate() method on the list to get the value and its index at the same time.\n",
        "for i, name in enumerate(names):\n",
        "    print(i, name)"
      ]
    },
    {
      "cell_type": "markdown",
      "id": "cf8bbcb4",
      "metadata": {
        "id": "cf8bbcb4"
      },
      "source": [
        "#### 2.1.2 Looping Through Dictionaries"
      ]
    },
    {
      "cell_type": "code",
      "execution_count": null,
      "id": "f18b7ce6",
      "metadata": {
        "id": "f18b7ce6"
      },
      "outputs": [],
      "source": [
        "# For dictionaries, there are several different ways to iterate over them.\n",
        "phonebook = {\"Zach\": \"12-37\", \"Jay\": \"34-23\"}\n",
        "\n",
        "# To iterate over the keys, use the same format as the loop for the list.\n",
        "for name in phonebook:\n",
        "    print(name)\n",
        "\n",
        "print()\n",
        "\n",
        "# Another way to iterate over the keys is to call the .keys() method on the dictionary.\n",
        "for name in phonebook.keys():\n",
        "    print(name)"
      ]
    },
    {
      "cell_type": "code",
      "execution_count": null,
      "id": "801d1827",
      "metadata": {
        "id": "801d1827"
      },
      "outputs": [],
      "source": [
        "# To iterate over the values, the .values() method can be used similar to .keys().\n",
        "for number in phonebook.values():\n",
        "    print(number)"
      ]
    },
    {
      "cell_type": "code",
      "execution_count": null,
      "id": "970876d4",
      "metadata": {
        "id": "970876d4"
      },
      "outputs": [],
      "source": [
        "# To iterate over the keys and values in a dictionary, the .values() method is used with similar format to the enumerate() method from list looping.\n",
        "for name, number in phonebook.items():\n",
        "    print(name + ': ' + number)"
      ]
    },
    {
      "cell_type": "markdown",
      "id": "e9661ef4",
      "metadata": {
        "id": "e9661ef4"
      },
      "source": [
        "## 3. Python Libraries"
      ]
    },
    {
      "cell_type": "markdown",
      "id": "1db0ca2d",
      "metadata": {
        "id": "1db0ca2d"
      },
      "source": [
        "### 3.1 NumPy\n",
        "NumPy is a Python library that adds support for large, multi-dimensional arrays and matrices as well as a large collection of optimized, high-level mathematical functions to use with these arrays."
      ]
    },
    {
      "cell_type": "markdown",
      "id": "ecdb0df8",
      "metadata": {
        "id": "ecdb0df8"
      },
      "source": [
        "If you are doing this lab on Google Colab, then you can skip these instructions and continue the lab.\n",
        "\n",
        "If you are doing this lab locally, you may need to install NumPy first before importing it in the next cell.\n",
        "There are many ways to manage your packages, but we suggest you use Anaconda. Anaconda creates sections called conda environments on your computer so that anything you install within an environment does not affect anything outside the environment.\n",
        " - [Download Anaconda](https://www.anaconda.com/download/success). Create a new conda environment for this lab.\n",
        " - Depending on the coding software you are using, there will be different steps to enable your conda environment. To find these steps, search \"how to enable a conda environment in ...\" for your coding software."
      ]
    },
    {
      "cell_type": "code",
      "execution_count": null,
      "id": "ab7d3f32",
      "metadata": {
        "id": "ab7d3f32"
      },
      "outputs": [],
      "source": [
        "# Import NumPy as np for cleaner code in the future.\n",
        "import numpy as np"
      ]
    },
    {
      "cell_type": "code",
      "execution_count": null,
      "id": "6596eb30",
      "metadata": {
        "id": "6596eb30",
        "scrolled": false
      },
      "outputs": [],
      "source": [
        "# NumPy arrays are similar to lists but support multiple dimensions and faster operations. They are defined with np.array.\n",
        "\n",
        "x = np.array([1, 2, 3]) # This NumPy array will be the same as a normal array but is called a vector because its only has one dimension.\n",
        "y = np.array([[3, 4, 5]]) # This NumPy array now has some dimensionality to it, but it is still a vector because it essentially has one dimension.\n",
        "z = np.array([[6, 7],[8, 9]]) # This NumPy array also has dimensionality, but now it is a matrix because it has two dimensions.\n",
        "\n",
        "# Let's see how NumPy defines these arrays' shapes.\n",
        "# When working with NumPy arrays, the .shape method tells you the shape of a given array. This will be a very useful for debugging and inspecting later.\n",
        "print(x.shape)\n",
        "print(y.shape)"
      ]
    },
    {
      "cell_type": "code",
      "execution_count": null,
      "id": "e8aab491",
      "metadata": {
        "id": "e8aab491"
      },
      "outputs": [],
      "source": [
        "# Based on the first 2 NumPy arrays' shapes, what will the last one look like?\n",
        "print(z)\n",
        "print()\n",
        "print(z.shape)"
      ]
    },
    {
      "cell_type": "markdown",
      "id": "f4b465bf",
      "metadata": {
        "id": "f4b465bf"
      },
      "source": [
        "Vectors are represented as 1-D arrays with shape (N,) or 2-D arrays with shape (N, 1) or (1, N). However, it is important to note that the shapes (N,), (N, 1), and (1, N) are not the same and may lead to different behaviors when manipulated.\n",
        "\n",
        "Matrices are generally represented as 2-D arrays of shape (M, N) or more.\n",
        "\n",
        "The best way to ensure your code has the behavior you expect is to keep track of your array shapes and refer back to documentation when unsure."
      ]
    },
    {
      "cell_type": "code",
      "execution_count": null,
      "id": "A0Wl4qioLmb-",
      "metadata": {
        "id": "A0Wl4qioLmb-"
      },
      "outputs": [],
      "source": [
        "# Create a NumPy array that contains whole numbers from 0 till the provided number (exclusive) with the np.arange method.\n",
        "a = np.arange(10)\n",
        "print(a)"
      ]
    },
    {
      "cell_type": "code",
      "execution_count": null,
      "id": "6bb1e639",
      "metadata": {
        "id": "6bb1e639"
      },
      "outputs": [],
      "source": [
        "# Use the np.reshape method to change the shape of this array.\n",
        "b = a.reshape((5, 2))\n",
        "print(b)"
      ]
    },
    {
      "cell_type": "markdown",
      "id": "bcb3f37c",
      "metadata": {
        "id": "bcb3f37c"
      },
      "source": [
        "#### 3.1.1 Array Operations"
      ]
    },
    {
      "cell_type": "markdown",
      "id": "18a8a694",
      "metadata": {
        "id": "18a8a694"
      },
      "source": [
        "##### 3.1.1.1 The np.max Method\n",
        "There are many NumPy operations that can be used to manipulate a NumPy array. Let's start with the np.max operation (documentation: https://numpy.org/doc/stable/reference/generated/numpy.ndarray.max.html)."
      ]
    },
    {
      "cell_type": "code",
      "execution_count": null,
      "id": "1fcf4220",
      "metadata": {
        "id": "1fcf4220"
      },
      "outputs": [],
      "source": [
        "# First, define an example NumPy array to work with.\n",
        "x = np.array([[1, 2], [3, 4], [5, 6]])\n",
        "print(x)"
      ]
    },
    {
      "cell_type": "code",
      "execution_count": null,
      "id": "967221fa",
      "metadata": {
        "id": "967221fa"
      },
      "outputs": [],
      "source": [
        "# What shape do you think this array will have?\n",
        "print(x.shape)"
      ]
    },
    {
      "cell_type": "code",
      "execution_count": null,
      "id": "df82f62e",
      "metadata": {
        "id": "df82f62e"
      },
      "outputs": [],
      "source": [
        "# The np.max method can be used to get the highest number in each row, column, etc. to create a new array.\n",
        "print(np.max(x, axis = 1)) # axis = 0 means columns, axis = 1 means rows, axis = 2 means a different dimension, etc."
      ]
    },
    {
      "cell_type": "code",
      "execution_count": null,
      "id": "WDWPbijv7xsw",
      "metadata": {
        "id": "WDWPbijv7xsw"
      },
      "outputs": [],
      "source": [
        "# This new array no longer needs a second dimension since each row was summarized into one value.\n",
        "print(np.max(x, axis = 1).shape) # What do you think the shape of the array will be?"
      ]
    },
    {
      "cell_type": "code",
      "execution_count": null,
      "id": "0e888b74",
      "metadata": {
        "id": "0e888b74"
      },
      "outputs": [],
      "source": [
        "# When the keepdims parameter is set to True, the array keeps its second dimension.\n",
        "print(np.max(x, axis = 1, keepdims = True))"
      ]
    },
    {
      "cell_type": "code",
      "execution_count": null,
      "id": "bs1NM9oR703c",
      "metadata": {
        "id": "bs1NM9oR703c"
      },
      "outputs": [],
      "source": [
        "print(np.max(x, axis = 1, keepdims = True).shape) # What shape do you think this keepdims array will have?"
      ]
    },
    {
      "cell_type": "markdown",
      "id": "7c331429",
      "metadata": {
        "id": "7c331429"
      },
      "source": [
        "##### 3.1.1.2 Matrix Operations\n",
        "Next, let's look at some matrix operations. First, let's start with an element-wise product (Hadamard product) where the corresponding elements in two matrices are multiplied to form a new matrix."
      ]
    },
    {
      "cell_type": "code",
      "execution_count": null,
      "id": "25aeb52d",
      "metadata": {
        "id": "25aeb52d"
      },
      "outputs": [],
      "source": [
        "# Define two NumPy arrays with the same dimensions.\n",
        "A = np.array([[1, 2], [3, 4]])\n",
        "B = np.array([[3, 3], [3, 3]])\n",
        "print(A)\n",
        "print(B)\n",
        "\n",
        "# Perform the element-wise product by using the * operator.\n",
        "print()\n",
        "print(A * B)"
      ]
    },
    {
      "cell_type": "markdown",
      "id": "62696957",
      "metadata": {
        "id": "62696957"
      },
      "source": [
        "The dot product is another way to manipulate matrices, but it is more commonly used for vectors. The dot product multiplies each of the corresponding elements in each vector and sums all of those products to reach a final answer."
      ]
    },
    {
      "cell_type": "code",
      "execution_count": null,
      "id": "0caf84b9",
      "metadata": {
        "id": "0caf84b9"
      },
      "outputs": [],
      "source": [
        "# Define two vectors with the same shape to be compatible for the dot product.\n",
        "u = np.array([1, 2, 3])\n",
        "v = np.array([1, 10, 100])\n",
        "\n",
        "print(np.dot(u, v)) # Perform the dot product calculation with the np.dot method.\n",
        "# This will calculate (1 * 1) + (2 * 10) + (3 * 100) = 321.\n",
        "\n",
        "print(u.dot(v)) # Another way to perform the dot product is to call the dot product of one vector on another vector."
      ]
    },
    {
      "cell_type": "markdown",
      "id": "71c19f50",
      "metadata": {
        "id": "71c19f50"
      },
      "source": [
        "Let's try the dot product with two arrays that have different dimensions."
      ]
    },
    {
      "cell_type": "code",
      "execution_count": null,
      "id": "43e635bb",
      "metadata": {
        "id": "43e635bb"
      },
      "outputs": [],
      "source": [
        "# Define another NumPy array to see what will happen to the dot product.\n",
        "W = np.array([[1, 2], [3, 4], [5, 6]])\n",
        "print(v) # This is the previous vector that we worked with.\n",
        "print(v.shape) # This is its shape.\n",
        "print()\n",
        "print(W) # This is the new matrix we just defined.\n",
        "print(W.shape) # What do you think the new matrix's shape will be?"
      ]
    },
    {
      "cell_type": "code",
      "execution_count": null,
      "id": "a31f3c11",
      "metadata": {
        "id": "a31f3c11"
      },
      "outputs": [],
      "source": [
        "# Let's take the dot product of the vector and the matrix to see what happens.\n",
        "print(np.dot(v, W))\n",
        "print(np.dot(v, W).shape)"
      ]
    },
    {
      "cell_type": "code",
      "execution_count": null,
      "id": "683dd6ee",
      "metadata": {
        "id": "683dd6ee"
      },
      "outputs": [],
      "source": [
        "# That dot product worked because the first vector could be multiplied with the first column and the second column of the matrix to create a new matrix with two values.\n",
        "\n",
        "# This new dot product does not work. Why do you think that is?\n",
        "print(np.dot(W, v))"
      ]
    },
    {
      "cell_type": "code",
      "execution_count": null,
      "id": "9e8b2184",
      "metadata": {
        "id": "9e8b2184"
      },
      "outputs": [],
      "source": [
        "# That dot product did not work because the matrix could not be multiplied into a vector where the dimensions of the matrix does not match the vector.\n",
        "# This issue can be resolved by transposing W, which switches the data in the rows and columns.\n",
        "print(W)\n",
        "print()\n",
        "print(W.T)"
      ]
    },
    {
      "cell_type": "code",
      "execution_count": null,
      "id": "3bb5f76c",
      "metadata": {
        "id": "3bb5f76c"
      },
      "outputs": [],
      "source": [
        "# What do you expect the output of this dot product to be? What shape will this output have?\n",
        "print(np.dot(W.T, v))\n",
        "print(np.dot(W.T, v).shape)"
      ]
    },
    {
      "cell_type": "markdown",
      "id": "689f2a8d",
      "metadata": {
        "id": "689f2a8d"
      },
      "source": [
        "Matrix multiplication combines two matrices by taking the dot product of each row from the first matrix and each column from the second matrix. Then, these dot products are combined to create one new matrix.\n",
        "\n",
        "This is similar to the dot product example we last examined."
      ]
    },
    {
      "cell_type": "code",
      "execution_count": null,
      "id": "c76ec303",
      "metadata": {
        "id": "c76ec303"
      },
      "outputs": [],
      "source": [
        "# There are two ways to perform matrix multiplication.\n",
        "print(np.matmul(A, B)) # One with the np.matmul method.\n",
        "print(A @ B) # One with the @ operator."
      ]
    },
    {
      "cell_type": "markdown",
      "id": "c13199d8",
      "metadata": {
        "id": "c13199d8"
      },
      "source": [
        "#### 3.1.2 Indexing"
      ]
    },
    {
      "cell_type": "markdown",
      "id": "d3d3d5c2",
      "metadata": {
        "id": "d3d3d5c2"
      },
      "source": [
        "Slicing / indexing numpy arrays is a extension of the Python concept of slicing (lists) to N dimensions."
      ]
    },
    {
      "cell_type": "code",
      "execution_count": null,
      "id": "bb930e29",
      "metadata": {
        "id": "bb930e29",
        "scrolled": true
      },
      "outputs": [],
      "source": [
        "# Initialize a NumPy array with shape 3 x 4 that contains randomly generated real numbers.\n",
        "x = np.random.random((3, 4))\n",
        "\n",
        "# The ':' method selects the entire array.\n",
        "print(x[:])"
      ]
    },
    {
      "cell_type": "code",
      "execution_count": null,
      "id": "16d0fe9a",
      "metadata": {
        "id": "16d0fe9a"
      },
      "outputs": [],
      "source": [
        "# We can create another NumPy array that contains the values 0 and 2 and combine that vector with the ':' method to select all the elements in the 1st and 3rd rows.\n",
        "print(x[np.array([0, 2]), :])"
      ]
    },
    {
      "cell_type": "code",
      "execution_count": null,
      "id": "b2f9e4c5",
      "metadata": {
        "id": "b2f9e4c5"
      },
      "outputs": [],
      "source": [
        "# We can also select the 1st row as a vector and further select its 1st and 2nd elements.\n",
        "print(x[1, 1:3])"
      ]
    },
    {
      "cell_type": "code",
      "execution_count": null,
      "id": "04bf1911",
      "metadata": {
        "id": "04bf1911"
      },
      "outputs": [],
      "source": [
        "# All of the values that return True for a given Boolean expression can be extracted to create a new vector containing them.\n",
        "print(x[x > 0.5])"
      ]
    },
    {
      "cell_type": "code",
      "execution_count": null,
      "id": "118924a3",
      "metadata": {
        "id": "118924a3"
      },
      "outputs": [],
      "source": [
        "# A 3-D matrix with shape (3, 4, 1) can also be created using the ':' method and the np.newaxis method.\n",
        "print(x[:, :, np.newaxis])"
      ]
    },
    {
      "cell_type": "markdown",
      "id": "48e1704f",
      "metadata": {
        "id": "48e1704f"
      },
      "source": [
        "#### 3.1.3 Broadcasting"
      ]
    },
    {
      "cell_type": "markdown",
      "id": "40d35521",
      "metadata": {
        "id": "40d35521"
      },
      "source": [
        "The term broadcasting describes how NumPy manipulates arrays with different shapes in order to correctly perform arithmetic operations on them.\n",
        "\n",
        "**General Broadcasting Rules**\n",
        "\n",
        "When operating on two arrays, NumPy compares their shapes element-wise starting with the rightmost dimension and moving to the left. Two dimensions are compatible when:\n",
        "- they are equal, or\n",
        "- one of them is 1 (in which case, elements on the axis are repeated along the dimension)\n",
        "\n",
        "More details can be found at https://numpy.org/doc/stable/user/basics.broadcasting.html"
      ]
    },
    {
      "cell_type": "code",
      "execution_count": null,
      "id": "e3f0c8b1",
      "metadata": {
        "id": "e3f0c8b1"
      },
      "outputs": [],
      "source": [
        "# Initialize another NumPy array with shape 3 x 4 that contains randomly generated real numbers.\n",
        "x = np.random.random((3, 4))\n",
        "\n",
        "# Initialize two more random NumPy arrays with shape 3 x 1 and 1 x 4, respectively.\n",
        "y = np.random.random((3, 1))\n",
        "z = np.random.random((1, 4))\n",
        "\n",
        "# In this example, the last two arrays are broadcasted to match the shape of the first array."
      ]
    },
    {
      "cell_type": "code",
      "execution_count": null,
      "id": "93cdfc8a",
      "metadata": {
        "id": "93cdfc8a"
      },
      "outputs": [],
      "source": [
        "# Let's add the first and second arrays to see how broadcasting works.\n",
        "s = x + y\n",
        "\n",
        "print(x.shape)\n",
        "print(y.shape)\n",
        "\n",
        "# The second array is broadcasted along its rows.\n",
        "print()\n",
        "print(s.shape)"
      ]
    },
    {
      "cell_type": "code",
      "execution_count": null,
      "id": "a77b76bc",
      "metadata": {
        "id": "a77b76bc"
      },
      "outputs": [],
      "source": [
        "# For another example, let's perform an element-wise product for the first and third arrays.\n",
        "p = x * z\n",
        "\n",
        "print(x.shape)\n",
        "print(z.shape)\n",
        "\n",
        "# The third array is broadcasted along its columns.\n",
        "print()\n",
        "print(p.shape)"
      ]
    },
    {
      "cell_type": "code",
      "execution_count": null,
      "id": "FICMa8RiMR08",
      "metadata": {
        "id": "FICMa8RiMR08"
      },
      "outputs": [],
      "source": [
        "# Let's initialize two new NumPy arrays to further see how broadcasting works.\n",
        "a = np.zeros((3, 3)) # This array will be a 3 x 3 matrix of zeros.\n",
        "b = np.array([[1, 2, 3]]) # This array will be a 3 x 1 vector containing the integers 1, 2, and 3.\n",
        "\n",
        "# What do you think these arrays will look like?\n",
        "print(a)\n",
        "print()\n",
        "print(b)"
      ]
    },
    {
      "cell_type": "code",
      "execution_count": null,
      "id": "4a960ac4",
      "metadata": {
        "id": "4a960ac4"
      },
      "outputs": [],
      "source": [
        "# Let's see what happens when we add these arrays together.\n",
        "print(a+b)"
      ]
    },
    {
      "cell_type": "markdown",
      "id": "fec8ae1e",
      "metadata": {
        "id": "fec8ae1e"
      },
      "source": [
        "Now that we have covered the basics of broadcasting, let's look at a more complex example."
      ]
    },
    {
      "cell_type": "code",
      "execution_count": null,
      "id": "2b1b271d",
      "metadata": {
        "id": "2b1b271d"
      },
      "outputs": [],
      "source": [
        "# Let's define three new NumPy arrays:\n",
        "a = np.random.random((3, 4)) # 3 x 4\n",
        "b = np.random.random((3, 1)) # 3 x 1\n",
        "c = np.random.random((3, )) # 3\n",
        "\n",
        "print(a)\n",
        "print()\n",
        "print(b)\n",
        "print()\n",
        "print(c)"
      ]
    },
    {
      "cell_type": "markdown",
      "id": "972fda59",
      "metadata": {
        "id": "972fda59"
      },
      "source": [
        "While we go through the next few examples, think about these questions:\n",
        "- What is the expected broadcasting behavior for these operations?\n",
        "- What do the following operations give us?\n",
        "- What are the resulting shapes?"
      ]
    },
    {
      "cell_type": "code",
      "execution_count": null,
      "id": "ab0e1d5b",
      "metadata": {
        "id": "ab0e1d5b"
      },
      "outputs": [],
      "source": [
        "# Let's try adding the second array and its transposition.\n",
        "result1 = b + b.T\n",
        "\n",
        "# What do you think the shapes of these arrays will be?\n",
        "print(b.shape)\n",
        "print(b.T.shape)"
      ]
    },
    {
      "cell_type": "code",
      "execution_count": null,
      "id": "1d64880b",
      "metadata": {
        "id": "1d64880b"
      },
      "outputs": [],
      "source": [
        "# What will the output of this operation look like, and what will its shape be?\n",
        "print(result1)\n",
        "print(result1.shape)"
      ]
    },
    {
      "cell_type": "code",
      "execution_count": null,
      "id": "d7e113be",
      "metadata": {
        "id": "d7e113be",
        "scrolled": true
      },
      "outputs": [],
      "source": [
        "# Now, let's try adding the first and third array together. Do you think this will work?\n",
        "# Remember, the shape of the first array is 3 x 4 and the shape of the third array is only 3.\n",
        "result2 = a + c"
      ]
    },
    {
      "cell_type": "code",
      "execution_count": null,
      "id": "50f54f23",
      "metadata": {
        "id": "50f54f23"
      },
      "outputs": [],
      "source": [
        "# This operation did not work because the two arrays have incompatible dimensions, and there is no clear way to broadcast either array to make it work.\n",
        "# There are two ways to resolve this problem.\n",
        "\n",
        "# First, you can transpose the first array so that broadcasting can add the third array to each row of the transposed array for the operation.\n",
        "result2 = a.T + c\n",
        "\n",
        "# However, the result will have to be transposed back to have the correct dimensionality.\n",
        "print(result2.T)"
      ]
    },
    {
      "cell_type": "code",
      "execution_count": null,
      "id": "32f1e903",
      "metadata": {
        "id": "32f1e903"
      },
      "outputs": [],
      "source": [
        "# Second, you can add a second dimension to the third array so that its shape becomes 3 x 1.\n",
        "result2 = a + c[:, np.newaxis]\n",
        "\n",
        "print(result2)\n",
        "# Can you come up with any other ways to fix this problem?"
      ]
    },
    {
      "cell_type": "code",
      "execution_count": null,
      "id": "e91c0c70",
      "metadata": {
        "id": "e91c0c70"
      },
      "outputs": [],
      "source": [
        "# Let's try a final operation by adding the second and third arrays.\n",
        "result3 = b + c\n",
        "\n",
        "# Will this operation work? If so, how did broadcasting make this operation work?\n",
        "# What will the output of this operation look like, and what will its shape be?\n",
        "print(result3)\n",
        "print(result3.shape)"
      ]
    },
    {
      "cell_type": "markdown",
      "id": "0a845479",
      "metadata": {
        "id": "0a845479"
      },
      "source": [
        "#### 3.1.4 Efficient NumPy Code"
      ]
    },
    {
      "cell_type": "markdown",
      "id": "55c8d74f",
      "metadata": {
        "id": "55c8d74f"
      },
      "source": [
        "When working with NumPy arrays, avoid using for loops over indices/axes as they will dramatically slow down your code (usually by about 10-100x).\n",
        "\n",
        "For example, let's compare the for loop and NumPy operations. We can time each of these codes using the %%timeit command from Jupyter notebooks and Google Colab."
      ]
    },
    {
      "cell_type": "code",
      "execution_count": null,
      "id": "ba02c912",
      "metadata": {
        "id": "ba02c912"
      },
      "outputs": [],
      "source": [
        "%%timeit\n",
        "# This is the explicit for loop that attempts to add 5 to every element in rows 100 to 1000 in a 1000 x 1000 NumPy array.\n",
        "slowX = np.random.rand(1000, 1000)\n",
        "for i in range(100, 1000):\n",
        "    for j in range(1000):\n",
        "        slowX[i, j] += 5"
      ]
    },
    {
      "cell_type": "code",
      "execution_count": null,
      "id": "3c96fc83",
      "metadata": {
        "id": "3c96fc83"
      },
      "outputs": [],
      "source": [
        "%%timeit\n",
        "# This code does the exact same thing, but with NumPy operations to achieve an extremely faster speed.\n",
        "fastX = np.random.rand(1000, 1000)\n",
        "fastX[np.arange(100,1000), :] += 5"
      ]
    },
    {
      "cell_type": "markdown",
      "id": "e0e69e89",
      "metadata": {
        "id": "e0e69e89"
      },
      "source": [
        "You can see from the console outputs of both code blocks that the NumPy operations are far faster than the standard Python for loop."
      ]
    }
  ],
  "metadata": {
    "colab": {
      "provenance": []
    },
    "kernelspec": {
      "display_name": ".venv",
      "language": "python",
      "name": "python3"
    },
    "language_info": {
      "codemirror_mode": {
        "name": "ipython",
        "version": 3
      },
      "file_extension": ".py",
      "mimetype": "text/x-python",
      "name": "python",
      "nbconvert_exporter": "python",
      "pygments_lexer": "ipython3",
      "version": "3.13.0"
    }
  },
  "nbformat": 4,
  "nbformat_minor": 5
}